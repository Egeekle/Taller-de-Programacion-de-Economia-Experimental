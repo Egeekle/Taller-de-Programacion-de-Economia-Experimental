{
 "cells": [
  {
   "cell_type": "markdown",
   "metadata": {},
   "source": [
    "# 1."
   ]
  },
  {
   "cell_type": "code",
   "execution_count": 7,
   "metadata": {},
   "outputs": [],
   "source": [
    "lista = [1, 2, 3, 4, 5, 10, 15, 20, 25, 30, 40, 50, 60]\n",
    "lista[-1] # Seleccion del ultimo elemento de la lista\n",
    "del lista[1:4] # Elimina los elementos del segundo al quinto elemento de la lista\n",
    "lista2=lista[0:4] # Copia los elementos del primer al quinto elemento de la lista\n",
    "min=min(lista) # Selecciona el valor minimo de la lista\n",
    "max=max(lista) #Selecciona el valor maximo de la lista\n",
    "len=len(lista) #Selecciona la longitud de la lista"
   ]
  },
  {
   "cell_type": "markdown",
   "metadata": {},
   "source": [
    "# 2.\n"
   ]
  },
  {
   "cell_type": "code",
   "execution_count": 8,
   "metadata": {},
   "outputs": [],
   "source": [
    "family={'Lisset':40,'Enrique':50,'Lenin':18,'Teodora':80,'Guillermo':75,'Yobana':52,'Mateo':2} #Diccionario de integrantes de familia con sus edades"
   ]
  },
  {
   "cell_type": "code",
   "execution_count": 9,
   "metadata": {},
   "outputs": [],
   "source": [
    "del family['Mateo'],family['Teodora'] #Elimina los elementos Mateo y Teodora del diccionario"
   ]
  },
  {
   "cell_type": "code",
   "execution_count": 10,
   "metadata": {},
   "outputs": [],
   "source": [
    "family['Belcast']=23 #Agrega un nuevo elemento al diccionario"
   ]
  },
  {
   "cell_type": "code",
   "execution_count": 11,
   "metadata": {},
   "outputs": [],
   "source": [
    "family['CrisMJ']=2 #Agrega un nuevo elemento al diccionario"
   ]
  },
  {
   "cell_type": "code",
   "execution_count": 12,
   "metadata": {},
   "outputs": [],
   "source": [
    "names=list(family.keys()) #Convierte las llaves del diccionario en una lista\n",
    "names"
   ]
  },
  {
   "cell_type": "markdown",
   "metadata": {},
   "source": [
    "# 3."
   ]
  },
  {
   "cell_type": "code",
   "execution_count": 15,
   "metadata": {},
   "outputs": [
    {
     "name": "stdout",
     "output_type": "stream",
     "text": [
      "Niñez\n"
     ]
    }
   ],
   "source": [
    "def pedir_edad():\n",
    "    edad=int(input('Ingrese la edad de la persona: '))\n",
    "    if edad <=0:\n",
    "        print('Error:debes introducir un numero entero positivo')\n",
    "        pedir_edad()\n",
    "    return edad\n",
    "edad=pedir_edad()\n",
    "if edad <6:\n",
    "    print('Infancia')\n",
    "elif edad <12:\n",
    "    print('Niñez')\n",
    "elif edad <19:\n",
    "    print(\"Adolescencia\")\n",
    "elif edad <36:\n",
    "    print('Joven')\n",
    "elif edad <66:\n",
    "    print('Adultez')\n",
    "else:\n",
    "    print('Vejez')\n",
    "\n",
    "# Calcula la categoria de la persona segun su edad a traves de la funcion pedir_edad"
   ]
  },
  {
   "cell_type": "markdown",
   "metadata": {},
   "source": [
    "# 4."
   ]
  },
  {
   "cell_type": "code",
   "execution_count": null,
   "metadata": {},
   "outputs": [
    {
     "name": "stdout",
     "output_type": "stream",
     "text": [
      "30\n"
     ]
    }
   ],
   "source": [
    "numero = 10\n",
    "suma = 0\n",
    "i = 0\n",
    "\n",
    "while i <= numero:\n",
    "    if i % 2 == 0:\n",
    "        suma += i\n",
    "    i += 1\n",
    "\n",
    "print(suma)\n",
    "\n",
    "# Calcula la suma de los numeros pares del 0 al 10"
   ]
  },
  {
   "cell_type": "markdown",
   "metadata": {},
   "source": [
    "# 5."
   ]
  },
  {
   "cell_type": "code",
   "execution_count": null,
   "metadata": {},
   "outputs": [
    {
     "name": "stdout",
     "output_type": "stream",
     "text": [
      "a\n",
      "e\n",
      "i\n",
      "o\n",
      "u\n"
     ]
    }
   ],
   "source": [
    "abc = 'abcdefghijklmnopqrstuvwxyz'\n",
    "\n",
    "for letra in abc:\n",
    "    if letra.lower() in 'aeiou':\n",
    "        print(letra)\n",
    "# Imprime las vocales del abecedario"
   ]
  },
  {
   "cell_type": "markdown",
   "metadata": {},
   "source": [
    "# 6."
   ]
  },
  {
   "cell_type": "code",
   "execution_count": null,
   "metadata": {},
   "outputs": [
    {
     "name": "stdout",
     "output_type": "stream",
     "text": [
      "[961, 900, 841, 784, 729, 676, 625, 576, 529, 484, 441, 400, 361, 324, 289, 256, 225, 196, 169, 144, 121, 100]\n"
     ]
    }
   ],
   "source": [
    "cuadrados = []\n",
    "for i in range(10, 101):\n",
    "    cuadrado = i ** 2\n",
    "    cuadrados.append(cuadrado)\n",
    "    if cuadrado > 900:\n",
    "        break\n",
    "\n",
    "cuadrados.sort(reverse=True)\n",
    "print(cuadrados)\n",
    "# Calcula los cuadrados de los numeros del 10 al 100 hasta que el cuadrado supere a 900 y los ordena de mayor a menor"
   ]
  },
  {
   "cell_type": "markdown",
   "metadata": {},
   "source": [
    "# 7."
   ]
  },
  {
   "cell_type": "code",
   "execution_count": null,
   "metadata": {},
   "outputs": [
    {
     "name": "stdout",
     "output_type": "stream",
     "text": [
      "2 elevado a la 0 es 1\n",
      "2 elevado a la 1 es 2\n",
      "2 elevado a la 2 es 4\n",
      "2 elevado a la 3 es 8\n",
      "2 elevado a la 4 es 16\n",
      "2 elevado a la 5 es 32\n",
      "2 elevado a la 6 es 64\n",
      "2 elevado a la 7 es 128\n",
      "2 elevado a la 8 es 256\n",
      "2 elevado a la 9 es 512\n",
      "2 elevado a la 10 es 1024\n"
     ]
    }
   ],
   "source": [
    "def tabla_potencias(base):\n",
    "    for i in range(11):\n",
    "        potencia = base ** i\n",
    "        print(f'{base} elevado a la {i} es {potencia}')\n",
    "\n",
    "tabla_potencias(2)\n",
    "# Calcula las potencias de alguna base segun se especifica en la funcion tabla_potencias del 0 al 10"
   ]
  },
  {
   "cell_type": "markdown",
   "metadata": {},
   "source": [
    "# 8."
   ]
  },
  {
   "cell_type": "code",
   "execution_count": 8,
   "metadata": {},
   "outputs": [
    {
     "name": "stdout",
     "output_type": "stream",
     "text": [
      "['adios', 'perro', 'elefante']\n",
      "['elefante']\n",
      "Ninguna palabra cumple la condición\n"
     ]
    }
   ],
   "source": [
    "def filtrar_palabras(lista, n):\n",
    "    palabras_filtradas = []\n",
    "    for palabra in lista:\n",
    "        if len(palabra) > n:\n",
    "            palabras_filtradas.append(palabra)\n",
    "    if not palabras_filtradas:\n",
    "        print(\"Ninguna palabra cumple la condición\")\n",
    "    return palabras_filtradas\n",
    "\n",
    "# Ejemplo de uso:\n",
    "palabras = [\"hola\", \"adios\", \"gato\", \"perro\", \"elefante\"]\n",
    "resultado = filtrar_palabras(palabras, 4)\n",
    "print(resultado)  # Salida esperada: ['adios', 'perro', 'elefante']\n",
    "\n",
    "resultado = filtrar_palabras(palabras, 6)\n",
    "print(resultado)  # Salida esperada: ['elefante']\n",
    "\n",
    "resultado = filtrar_palabras(palabras, 10)\n",
    "\n",
    "# Calcula las palabras de una lista que tengan mas de n caracteres segun se especifica en la funcion filtrar_palabras"
   ]
  },
  {
   "cell_type": "markdown",
   "metadata": {},
   "source": [
    "# 9."
   ]
  },
  {
   "cell_type": "code",
   "execution_count": null,
   "metadata": {},
   "outputs": [
    {
     "name": "stdout",
     "output_type": "stream",
     "text": [
      "La distancia entre (3, 4) y (6, 8) es 5.0\n",
      "La suma entre (3, 4) y (6, 8) es (9, 12)\n"
     ]
    }
   ],
   "source": [
    "class Coordenada:\n",
    "    def __init__(self, x, y):\n",
    "        self.x = x\n",
    "        self.y = y\n",
    "\n",
    "    def __str__(self):\n",
    "        return f'({self.x}, {self.y})'\n",
    "\n",
    "    def distancia(self, otra_coordenada):\n",
    "        dx = self.x - otra_coordenada.x\n",
    "        dy = self.y - otra_coordenada.y\n",
    "        return (dx**2 + dy**2)**0.5\n",
    "\n",
    "    def suma(self, otra_coordenada):\n",
    "        x = self.x + otra_coordenada.x\n",
    "        y = self.y + otra_coordenada.y\n",
    "        return Coordenada(x, y)\n",
    "\n",
    "coord1 = Coordenada(3, 4)\n",
    "coord2 = Coordenada(6, 8)\n",
    "\n",
    "distancia = coord1.distancia(coord2)\n",
    "suma = coord1.suma(coord2)\n",
    "\n",
    "print(f'La distancia entre {coord1} y {coord2} es {distancia}')\n",
    "print(f'La suma entre {coord1} y {coord2} es {suma}')\n",
    "\n",
    "# Calcula la distancia y la suma de dos coordenadas"
   ]
  }
 ],
 "metadata": {
  "kernelspec": {
   "display_name": "egeekle",
   "language": "python",
   "name": "python3"
  },
  "language_info": {
   "codemirror_mode": {
    "name": "ipython",
    "version": 3
   },
   "file_extension": ".py",
   "mimetype": "text/x-python",
   "name": "python",
   "nbconvert_exporter": "python",
   "pygments_lexer": "ipython3",
   "version": "3.12.2"
  }
 },
 "nbformat": 4,
 "nbformat_minor": 2
}
